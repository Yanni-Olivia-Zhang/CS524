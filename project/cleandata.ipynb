{
 "cells": [
  {
   "cell_type": "code",
   "execution_count": 1,
   "id": "17d54660-d878-4c7e-89c8-62b9f5397562",
   "metadata": {},
   "outputs": [],
   "source": [
    "import pandas as pd\n",
    "from copy import copy"
   ]
  },
  {
   "cell_type": "code",
   "execution_count": 2,
   "id": "4cf7c9b5-330c-40c5-a016-ab9a1139b555",
   "metadata": {},
   "outputs": [],
   "source": [
    "full_data = pd.read_csv('data.csv')"
   ]
  },
  {
   "cell_type": "code",
   "execution_count": 3,
   "id": "be3cdd4e-214e-4701-900b-99dc891760d3",
   "metadata": {},
   "outputs": [],
   "source": [
    "top = full_data.truncate(before=0, after=760)\n",
    "bottom = full_data.truncate(before=761, after=1142)"
   ]
  },
  {
   "cell_type": "code",
   "execution_count": 4,
   "id": "cf3accfa-f6f4-4c75-9b13-54e96aac31fb",
   "metadata": {},
   "outputs": [],
   "source": [
    "first_half = bottom[['ad_id','reporting_start','reporting_end']].copy()\n",
    "first_half['campaign_id'] = 0\n",
    "first_half['fb_campaign_id'] = 0\n",
    "first_half['age']=  bottom['campaign_id']\n",
    "first_half['gender'] = bottom['fb_campaign_id']\n",
    "first_half['interest1'] = bottom['age']\n",
    "first_half['interest2'] = bottom['gender']\n",
    "first_half['interest3'] = bottom['interest1']\n",
    "first_half['impressions'] = bottom['interest2']\n",
    "first_half['clicks'] = bottom['interest3']\n",
    "first_half['spent'] = bottom['impressions']\n",
    "first_half['total_conversion'] = bottom['clicks']\n",
    "first_half['approved_conversion'] = bottom['spent']"
   ]
  },
  {
   "cell_type": "code",
   "execution_count": 5,
   "id": "10b98123-aafc-4367-be78-d7120b370b9d",
   "metadata": {},
   "outputs": [],
   "source": [
    "new = pd.concat([top, first_half], ignore_index=True)\n",
    "new.insert(0,'idx',new.index)\n",
    "new = new[['idx','interest1','interest2','interest3','impressions','clicks','spent','total_conversion','approved_conversion']]"
   ]
  },
  {
   "cell_type": "code",
   "execution_count": 6,
   "id": "acf166a8-4772-4d27-801b-7c77e963e21f",
   "metadata": {},
   "outputs": [],
   "source": [
    "cam_id = list(top['campaign_id'].unique())\n",
    "full_data = full_data.drop(['ad_id','reporting_start','reporting_end','fb_campaign_id','age','gender'],axis=1)\n",
    "first = cam_id[0]\n",
    "second = cam_id[1]\n",
    "third = cam_id[2]\n",
    "first_cam = full_data[full_data['campaign_id']==first]\n",
    "second_cam = full_data[full_data['campaign_id']==second]\n",
    "third_cam = full_data[full_data['campaign_id']==third]"
   ]
  },
  {
   "cell_type": "code",
   "execution_count": 7,
   "id": "d275e646-387e-41e6-87ac-0c3d42d85248",
   "metadata": {},
   "outputs": [],
   "source": [
    "first_cam.insert(0,'idx',first_cam.index)\n",
    "second_cam = second_cam.reset_index().drop(['index'],axis=1)\n",
    "second_cam.insert(0,'idx',second_cam.index)\n",
    "third_cam = third_cam.reset_index().drop(['index'],axis=1)\n",
    "third_cam.insert(0,'idx',third_cam.index)"
   ]
  },
  {
   "cell_type": "code",
   "execution_count": 8,
   "id": "28b1a03c-0205-4fa5-ae19-a25ce615df38",
   "metadata": {},
   "outputs": [],
   "source": [
    "new.to_csv(r'fulldata.csv',index=False, header=True)\n",
    "first_cam.to_csv(r'cam1.csv',index=False, header=True)\n",
    "second_cam.to_csv(r'cam2.csv',index=False, header=True)\n",
    "third_cam.to_csv(r'cam3.csv',index=False, header=True)"
   ]
  },
  {
   "cell_type": "code",
   "execution_count": null,
   "id": "44dac644-67b0-4069-824d-ceaf6b3b5b63",
   "metadata": {},
   "outputs": [],
   "source": []
  }
 ],
 "metadata": {
  "kernelspec": {
   "display_name": "Python 3 (ipykernel)",
   "language": "python",
   "name": "python3"
  },
  "language_info": {
   "codemirror_mode": {
    "name": "ipython",
    "version": 3
   },
   "file_extension": ".py",
   "mimetype": "text/x-python",
   "name": "python",
   "nbconvert_exporter": "python",
   "pygments_lexer": "ipython3",
   "version": "3.10.6"
  }
 },
 "nbformat": 4,
 "nbformat_minor": 5
}
